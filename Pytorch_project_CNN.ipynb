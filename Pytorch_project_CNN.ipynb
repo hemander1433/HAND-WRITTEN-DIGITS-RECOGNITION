{
  "nbformat": 4,
  "nbformat_minor": 0,
  "metadata": {
    "colab": {
      "provenance": [],
      "authorship_tag": "ABX9TyPYgFsLbYgNuqH9GnNTfy03",
      "include_colab_link": true
    },
    "kernelspec": {
      "name": "python3",
      "display_name": "Python 3"
    },
    "language_info": {
      "name": "python"
    }
  },
  "cells": [
    {
      "cell_type": "markdown",
      "metadata": {
        "id": "view-in-github",
        "colab_type": "text"
      },
      "source": [
        "<a href=\"https://colab.research.google.com/github/hemander1433/HAND-WRITTEN-DIGITS-RECOGNITION/blob/main/Pytorch_project_CNN.ipynb\" target=\"_parent\"><img src=\"https://colab.research.google.com/assets/colab-badge.svg\" alt=\"Open In Colab\"/></a>"
      ]
    },
    {
      "cell_type": "markdown",
      "source": [
        "HANDWRITTEN DIGITS RECOGNITION USING CNN"
      ],
      "metadata": {
        "id": "cu9mzacRk--Y"
      }
    },
    {
      "cell_type": "code",
      "execution_count": null,
      "metadata": {
        "colab": {
          "base_uri": "https://localhost:8080/",
          "height": 625
        },
        "id": "uZvMqW1wz-2T",
        "outputId": "e41aa78d-d720-4ed6-abc7-6a427dc6a4f4"
      },
      "outputs": [
        {
          "output_type": "stream",
          "name": "stdout",
          "text": [
            "Epoch [1/5], Loss: 0.1894\n",
            "Epoch [2/5], Loss: 0.0504\n",
            "Epoch [3/5], Loss: 0.0360\n",
            "Epoch [4/5], Loss: 0.0273\n",
            "Epoch [5/5], Loss: 0.0216\n",
            "Accuracy on test data: 98.68%\n"
          ]
        },
        {
          "output_type": "display_data",
          "data": {
            "text/plain": [
              "<Figure size 1000x600 with 6 Axes>"
            ],
            "image/png": "[encoded data removed]"
          },
          "metadata": {}
        }
      ],
      "source": [
        "#                     HANDWRITTEN DIGITS RECOGNITION USING CNN\n",
        "\n",
        "\n",
        "\n",
        "# Import required libraries first\n",
        "import torch\n",
        "import torch.nn as nn\n",
        "import torch.optim as optim            #for optimiser\n",
        "from torchvision import datasets, transforms\n",
        "from torch.utils.data import DataLoader\n",
        "import matplotlib.pyplot as plt               # for graphs\n",
        "\n",
        "# Step 1: Load and Preprocess the Dataset\n",
        "# Define transformations: convert to tensor and normalize\n",
        "transform = transforms.Compose([\n",
        "    transforms.ToTensor(),  # Convert images to PyTorch tensors\n",
        "    transforms.Normalize((0.5,), (0.5,))  # Normalize pixel values to [-1, 1]\n",
        "])\n",
        "\n",
        "# Download and load the MNIST dataset\n",
        "train_dataset = datasets.MNIST(root='./data', train=True, transform=transform, download=True)\n",
        "test_dataset = datasets.MNIST(root='./data', train=False, transform=transform, download=True)\n",
        "\n",
        "# DataLoaders for batching and shuffling\n",
        "train_loader = DataLoader(dataset=train_dataset, batch_size=64, shuffle=True)\n",
        "test_loader = DataLoader(dataset=test_dataset, batch_size=64, shuffle=False)\n",
        "\n",
        "# Step 2: Define the CNN Model\n",
        "class CNN(nn.Module):\n",
        "    def __init__(self):\n",
        "        super(CNN, self).__init__()\n",
        "        self.conv1 = nn.Conv2d(1, 16, kernel_size=3, stride=1, padding=1)  # First conv layer\n",
        "        self.conv2 = nn.Conv2d(16, 32, kernel_size=3, stride=1, padding=1)  # Second conv layer\n",
        "        self.fc1 = nn.Linear(32 * 7 * 7, 128)  # Fully connected layer 1\n",
        "        self.fc2 = nn.Linear(128, 10)  # Fully connected layer 2 (output)\n",
        "\n",
        "    def forward(self, x):\n",
        "        x = torch.relu(self.conv1(x))  # Apply ReLU activation   RELU is an activation function mainly used to introduce non linearity in the nn.\n",
        "        x = torch.max_pool2d(x, 2)  # Max pooling (reduce size by half)\n",
        "        x = torch.relu(self.conv2(x))  # Apply ReLU activation\n",
        "        x = torch.max_pool2d(x, 2)  # Max pooling\n",
        "        x = x.view(x.size(0), -1)  # Flatten for the fully connected layer\n",
        "        x = torch.relu(self.fc1(x))  # Fully connected layer + ReLU\n",
        "        x = self.fc2(x)  # Final output layer\n",
        "        return x\n",
        "\n",
        "# call the model\n",
        "model = CNN()\n",
        "\n",
        "# Step 3: Define Loss Function and Optimizer\n",
        "criterion = nn.CrossEntropyLoss()  # Cross-entropy loss for multi-class classification\n",
        "optimizer = optim.Adam(model.parameters(), lr=0.001)  # Adam optimizer\n",
        "\n",
        "# Step 4: Train the Model\n",
        "epochs = 5\n",
        "for epoch in range(epochs):\n",
        "    model.train()  # Set the model to training mode\n",
        "    running_loss = 0.0\n",
        "    for images, labels in train_loader:\n",
        "        optimizer.zero_grad()  # Clear gradients\n",
        "        outputs = model(images)  # Forward pass step 1\n",
        "        loss = criterion(outputs, labels)  # Compute loss ste 2\n",
        "        loss.backward()  # Backward pass step 3\n",
        "        optimizer.step()  # Update weights step 4\n",
        "        running_loss += loss.item()\n",
        "    print(f\"Epoch [{epoch+1}/{epochs}], Loss: {running_loss/len(train_loader):.4f}\")\n",
        "\n",
        "# Step 5: Test the Model\n",
        "model.eval()  # Set the model to evaluation mode\n",
        "correct = 0\n",
        "total = 0\n",
        "with torch.no_grad():  # Disable gradient computation for testing\n",
        "    for images, labels in test_loader:\n",
        "        outputs = model(images)\n",
        "        _, predicted = torch.max(outputs, 1)  # Get predicted class\n",
        "        total += labels.size(0)\n",
        "        correct += (predicted == labels).sum().item()\n",
        "\n",
        "accuracy = 100 * correct / total\n",
        "print(f\"Accuracy on test data: {accuracy:.2f}%\")\n",
        "\n",
        "# Step 6: Visualize Results\n",
        "\n",
        "data_iter = iter(test_loader)  # Create an iterator from the DataLoader\n",
        "images, labels = next(data_iter)  # Use the next() function to get one batch of data\n",
        "\n",
        "# Pass the batch through the model to get predictions\n",
        "with torch.no_grad():  # Disable gradient calculation for efficiency\n",
        "    outputs = model(images)\n",
        "_, predicted = torch.max(outputs, 1)  # Get the predicted class indices\n",
        "\n",
        "# Plot some test images with predicted labels\n",
        "plt.figure(figsize=(10, 6))\n",
        "for i in range(6):  # Display the first 6 images in the batch\n",
        "    plt.subplot(2, 3, i + 1)\n",
        "    plt.imshow(images[i][0], cmap='gray')  # MNIST images are single-channel (grayscale)\n",
        "    plt.title(f\"Label: {labels[i].item()}, Pred: {predicted[i].item()}\")  # Convert tensor to int\n",
        "    plt.axis('off')  # Turn off axis for better visualization\n",
        "plt.show()\n"
      ]
    }
  ]
}